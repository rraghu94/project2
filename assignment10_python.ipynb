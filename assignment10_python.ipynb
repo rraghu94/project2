{
 "cells": [
  {
   "cell_type": "markdown",
   "metadata": {},
   "source": [
    "<img src=\"https://datasciencedegree.wisconsin.edu/wp-content/themes/data-gulp/images/logo.svg\" width=\"300\">\n",
    "\n"
   ]
  },
  {
   "cell_type": "markdown",
   "metadata": {},
   "source": [
    "# Assignment 10\n",
    "\n",
    "This Python assignment explores three methods of computing the same thing, and their performance.  \n",
    "\n",
    "These problems use the 1985 Current Population Survey data, ```cps.csv```, from last week.\n"
   ]
  },
  {
   "cell_type": "markdown",
   "metadata": {},
   "source": [
    "## Problem 1(a).  Unionized workers.\n",
    "\n",
    "\n",
    "🎯 Create a pandas data frame to hold the CPS data.  \n",
    "🎯 Write a function that computes the average hourly wage of a unionized worker by using **control flow** to iterate through each row of the data frame.  There must be a loop in this function."
   ]
  },
  {
   "cell_type": "code",
   "execution_count": 1,
   "metadata": {},
   "outputs": [
    {
     "data": {
      "text/plain": [
       "10.798125000000001"
      ]
     },
     "execution_count": 1,
     "metadata": {},
     "output_type": "execute_result"
    }
   ],
   "source": [
    "import numpy as np\n",
    "import pandas as pd\n",
    "\n",
    "wage_data = pd.read_csv(\"C:/Users/rohit/Desktop/ds710spring2018assignment9/cps.csv\")\n",
    "#define function to find hourly wage\n",
    "#add up all the wages and divide it by the number of rows \n",
    "def Union_mean_wage (wage_data) :\n",
    "#initialize the variables \n",
    "    tot_sum_wages = 0\n",
    "    row_total = 0\n",
    "# use for loop to move through the wages \n",
    "    for i in range(len(wage_data)): \n",
    "#check to see if the the position at union column i has \"Union\" label\n",
    "        if (wage_data[\"union\"][i] == \"Union\"):\n",
    "#sum of wages equals previous wage value plus the value at the current position\n",
    "            tot_sum_wages = tot_sum_wages + wage_data[\"wage\"][i]\n",
    "#sum of rows equals previous # rows value plus the value at the current position\n",
    "            row_total = row_total + 1\n",
    "    return (tot_sum_wages/row_total)\n",
    "Union_mean_wage(wage_data)"
   ]
  },
  {
   "cell_type": "markdown",
   "metadata": {},
   "source": [
    "## Problem 1(b).  More unionized workers.\n",
    "\n",
    "🎯 Write a function that takes a row of a data frame as input.  \n",
    "\n",
    "* Your function should return \n",
    "  * `np.nan` if a worker is not unionized, and \n",
    "  * the worker's hourly wage if the worker is unionized.  \n",
    "  \n",
    "🎯 Pass your function to `apply` using your data frame (`df.apply(...)`).  Then, use the resulting series to compute the average hourly wage of a unionized worker.  \n",
    "\n",
    "Use tab completion or documentation for pandas series objects to find some useful functions!  Numpy rules, too."
   ]
  },
  {
   "cell_type": "code",
   "execution_count": 2,
   "metadata": {},
   "outputs": [
    {
     "data": {
      "text/plain": [
       "10.798125"
      ]
     },
     "execution_count": 2,
     "metadata": {},
     "output_type": "execute_result"
    }
   ],
   "source": [
    "def Union_mean_wage2(wage_data2):\n",
    "    if (wage_data2['union'] == \"Union\"):\n",
    "        return wage_data2['wage']\n",
    "    else:\n",
    "        return np.nan\n",
    "    \n",
    "wage_data.apply(Union_mean_wage2, axis = 1).mean()"
   ]
  },
  {
   "cell_type": "markdown",
   "metadata": {},
   "source": [
    "## Problem 1(c).  Selecting and analyzing unionized workers.\n",
    "\n",
    "🎯 Write code using the data frame only, that selects the unionized workers, then computes the average hourly wage of the resulting subset.  Pandas documentation and examples are going to be king here.  Also, don't be afraid to just Google [about three words](https://www.google.com/search?q=pandas+select+columns) related to your problem; after all, the internet was written by computer programmers!"
   ]
  },
  {
   "cell_type": "code",
   "execution_count": 3,
   "metadata": {},
   "outputs": [
    {
     "data": {
      "text/plain": [
       "10.798125"
      ]
     },
     "execution_count": 3,
     "metadata": {},
     "output_type": "execute_result"
    }
   ],
   "source": [
    "Union_mean_wage3=wage_data[(wage_data['union']=='Union')]\n",
    "np.mean(Union_mean_wage3['wage'])"
   ]
  },
  {
   "cell_type": "markdown",
   "metadata": {},
   "source": [
    "## Problem 1(d).  Timing.\n",
    "\n",
    "🎯 Use the ```%time``` or ```%timeit``` [iPython magic commands](https://ipython.readthedocs.io/en/stable/interactive/magics.html) to compare your code from 1(a), 1(b), and 1(c).  \n",
    "🎯 Create a markdown cell which explains the results of your comparison, including which is fastest and which is slowest.  Can you explain what makes the fastest code fastest?"
   ]
  },
  {
   "cell_type": "code",
   "execution_count": 4,
   "metadata": {},
   "outputs": [
    {
     "name": "stdout",
     "output_type": "stream",
     "text": [
      "Wall time: 8.01 ms\n"
     ]
    },
    {
     "data": {
      "text/plain": [
       "10.798125000000001"
      ]
     },
     "execution_count": 4,
     "metadata": {},
     "output_type": "execute_result"
    }
   ],
   "source": [
    "%time  Union_mean_wage (wage_data)"
   ]
  },
  {
   "cell_type": "code",
   "execution_count": 5,
   "metadata": {},
   "outputs": [
    {
     "name": "stdout",
     "output_type": "stream",
     "text": [
      "Wall time: 15.6 ms\n"
     ]
    },
    {
     "data": {
      "text/plain": [
       "10.798125"
      ]
     },
     "execution_count": 5,
     "metadata": {},
     "output_type": "execute_result"
    }
   ],
   "source": [
    "%time  wage_data.apply(Union_mean_wage2, axis = 1).mean()"
   ]
  },
  {
   "cell_type": "code",
   "execution_count": 6,
   "metadata": {},
   "outputs": [
    {
     "name": "stdout",
     "output_type": "stream",
     "text": [
      "Wall time: 1 ms\n"
     ]
    },
    {
     "data": {
      "text/plain": [
       "10.798125"
      ]
     },
     "execution_count": 6,
     "metadata": {},
     "output_type": "execute_result"
    }
   ],
   "source": [
    "%time Union_mean_wage3=wage_data[(wage_data['union']=='Union')]\n",
    "np.mean(Union_mean_wage3['wage'])"
   ]
  },
  {
   "cell_type": "markdown",
   "metadata": {},
   "source": [
    "The fastest code in this case is the 3rd function. The slowest code is the 2nd function. The reason the third function is the fastest is that it does not have any for or if loops which reduces the run time."
   ]
  },
  {
   "cell_type": "code",
   "execution_count": null,
   "metadata": {
    "collapsed": true
   },
   "outputs": [],
   "source": []
  }
 ],
 "metadata": {
  "kernelspec": {
   "display_name": "Python 3",
   "language": "python",
   "name": "python3"
  },
  "language_info": {
   "codemirror_mode": {
    "name": "ipython",
    "version": 3
   },
   "file_extension": ".py",
   "mimetype": "text/x-python",
   "name": "python",
   "nbconvert_exporter": "python",
   "pygments_lexer": "ipython3",
   "version": "3.6.3"
  }
 },
 "nbformat": 4,
 "nbformat_minor": 1
}
