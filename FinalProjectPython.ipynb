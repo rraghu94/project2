{
 "cells": [
  {
   "cell_type": "code",
   "execution_count": 9,
   "metadata": {
    "scrolled": true
   },
   "outputs": [
    {
     "name": "stdout",
     "output_type": "stream",
     "text": [
      "['@lilia_lerma Of course! You will have that option once you check-in for your flight 24 hours before the flight departure. -Victoria', \"@mommateah We've got your back! It was a pleasure having you onboard today. Have a good night! -Victoria\", '@Schmariella Any information you have will be helpful! We appreciate you taking the time to reach out. Just send it… https://t.co/bPiN2M17cH', '@wedwards91 Our apologies for the trouble! We truly appreciate your patience tonight. Be sure to keep an eye on you… https://t.co/cgVtGR7b06', '@Schmariella Our apologies for any disappointment, Ariella. Mind DMing us your confirmation number so we can be sur… https://t.co/y2aVisgPRY', \"@wedwards91 Hi, Will! Thanks for taking the time to give our Team a shout out. We're glad to hear they were able to… https://t.co/GUTMDnWacs\", '@OfdProductions Thanks for your patience this evening. We look forward to our next opportunity to serve you. -Emilia', '@cali_kate727 Thanks for sharing your kind words with us, Kate. We have some of the best Pilots in the industry, an… https://t.co/bL3UABVive', '@CharlesAguillon Oh no! Please DM us so we can take a closer look, Charles. -Victoria', '@scottusmc33 Hi, Scott. While delays will inevitably occur from time to time, we know our Customers depend on us to… https://t.co/vsoKlQmwO2', '@TiffATLtoNYC We apologize for any disappointment. Our discounted fares are the most popular &amp; sell out quickly. -Victoria', '@gabimdp We would be happy to assist you on the platform you reached out on. Do you mind DMing us your confirmation… https://t.co/uOcH3uGHmW', \"@DamonGriffin25 We're sorry for any frustration, Damon. We never want our Customers to walk away disappointed, and… https://t.co/RsYaTZrECT\", '@EconFlight These are awesome, Anthony! Thank you for the love. Hope to see you onboard soon! -Victoria', \"@HayleyHanger Thanks for sharing the love today, Hayley! We hope we'll get to see you onboard soon. -Rebekah\", \"@C97305134 It sounds like you've already spoken with someone in our Customer Relations Department about your situat… https://t.co/fPyApldH1C\", \"@Davalos007 We don't like hearing this, David. Please DM your confirmation number so we can follow-up. -Mariam\", '@KassidyCasa YAS! Where are you guys headin? -Rebekah', \"@CoachAmy33 We're always looking for improvements to our routes and we love to hear what our Passengers are interes… https://t.co/m3wbq38Znn\", '@CupcakeCaps These treats look delicious! Thanks for sharing your Southwest Spirit with us today! I am sure these m… https://t.co/w6jWzowszZ']\n"
     ]
    }
   ],
   "source": [
    "import tweepy\n",
    "import csv\n",
    "import pandas as pd\n",
    "\n",
    "####input credentials \n",
    "consumer_key = 'LdgAcs6oKbXjI9xL2cJHIUnHt'\n",
    "consumer_secret = 'LsExIugvW9qbt5A5UR0mnvOHeCwnrOlKFE5ay8gFlrhTATHBKo'\n",
    "access_token = '713824984-U3av1tuFxnnCQeDEipOZxaHyjqTLjihcIuTJRZNw'\n",
    "access_token_secret = 'mavBH1ZLHGNYnYm2QdTFPRzcWCy2fnIG5344xwRCtXWk5'\n",
    "\n",
    "\n",
    "\n",
    "\n",
    "\n",
    "\n",
    "# Function to extract tweets\n",
    "def get_tweets(SouthwestAir):\n",
    "         \n",
    "        # Authorization to consumer key and consumer secret\n",
    "        auth = tweepy.OAuthHandler(consumer_key, consumer_secret)\n",
    " \n",
    "        # Access to user's access key and access secret\n",
    "        auth.set_access_token(access_token, access_token_secret)\n",
    " \n",
    "        # Calling api\n",
    "        api = tweepy.API(auth)\n",
    " \n",
    "        # 500 tweets to be extracted\n",
    "        number_of_tweets=500\n",
    "        tweets = api.user_timeline(screen_name=SouthwestAir)\n",
    " \n",
    "        # Empty Array\n",
    "        tmp=[] \n",
    " \n",
    "        # create array of tweet information: username, \n",
    "        # tweet id, date/time, text\n",
    "        tweets_for_csv = [tweet.text for tweet in tweets] # CSV file created \n",
    "        for j in tweets_for_csv:\n",
    " \n",
    "            # Appending tweets to the empty array tmp\n",
    "            tmp.append(j) \n",
    " \n",
    "        # Printing the tweets\n",
    "        print(tmp)\n",
    " \n",
    " \n",
    "# Driver code\n",
    "if __name__ == '__main__':\n",
    " \n",
    "   \n",
    "    #  tweets are to be extracted.\n",
    "    get_tweets(\"SouthwestAir\") \n",
    "    \n",
    "    \n",
    "    \n",
    "def get_sentences(input_text_string):\n",
    "    sentence_list = list()\n",
    "    # replace characters in the string\n",
    "    input_text_string = input_text_string.replace('”','')\n",
    "    input_text_string = input_text_string.replace('“','')\n",
    "    input_text_string = input_text_string.replace('‘','')\n",
    "    input_text_string = input_text_string.replace('’','')\n",
    "    input_text_string = input_text_string.replace('-',' ')\n",
    "    input_text_string = input_text_string.replace(',','')\n",
    "    input_text_string = input_text_string.replace(';','')\n",
    "    input_text_string = input_text_string.replace(\"'\",'')\n",
    "    input_text_string = input_text_string.replace('*','')\n",
    "    input_text_string = input_text_string.replace(')','')\n",
    "    input_text_string = input_text_string.replace(':','')\n",
    "    input_text_string = input_text_string.replace('_','')\n",
    "    input_text_string = input_text_string.replace('”','')\n",
    "    input_text_string = input_text_string.replace('  ',' ')   \n",
    "    \n",
    "    "
   ]
  },
  {
   "cell_type": "code",
   "execution_count": null,
   "metadata": {
    "collapsed": true
   },
   "outputs": [],
   "source": []
  }
 ],
 "metadata": {
  "kernelspec": {
   "display_name": "Python 3",
   "language": "python",
   "name": "python3"
  },
  "language_info": {
   "codemirror_mode": {
    "name": "ipython",
    "version": 3
   },
   "file_extension": ".py",
   "mimetype": "text/x-python",
   "name": "python",
   "nbconvert_exporter": "python",
   "pygments_lexer": "ipython3",
   "version": "3.6.3"
  }
 },
 "nbformat": 4,
 "nbformat_minor": 2
}
