{
 "cells": [
  {
   "cell_type": "markdown",
   "metadata": {},
   "source": [
    "<img src=\"https://datasciencedegree.wisconsin.edu/wp-content/themes/data-gulp/images/logo.svg\" width=\"300\">\n"
   ]
  },
  {
   "cell_type": "markdown",
   "metadata": {},
   "source": [
    "# Assignment 12 -- Last one!\n",
    "\n",
    "In this assignment, you will explore a bit of Python classes as a data storage and computational tool.  Our data set is a [Magic: The Gathering](https://magic.wizards.com/en) cardset called *Dragons of Tarkir*.\n",
    "<img src=\"https://magic.wizards.com/sites/mtg/files/images/featured/EN_DTK_FatPack_Product.png\" width=\"250\">\n",
    "You are tasked with organizing information about a Magic: The Gathering card collection.  You are particularly interested in which cards are most rare, and therefore likely most valuable. Since the game is often played with decks that focus on a particular color or two, you are also interested in the colors of the cards. \n"
   ]
  },
  {
   "cell_type": "markdown",
   "metadata": {},
   "source": [
    "# Problem 1(a).  A collectible card class.\n",
    "\n",
    "The [MTG JSON website](http://mtgjson.com/) has information about different sets of Magic: The Gathering cards in JSON format.  \n",
    "\n",
    "🎯 Using the [Example Card](http://mtgjson.com/#exampleCard) information (scroll down if you don't see it!), create a `MagicCard` class to store relevant information about Magic cards in Python.  \n",
    "\n",
    "The main features we are interested in are name, colors, and rarity.  \n",
    "\n",
    "###### On a card's color\n",
    "\n",
    "Cards may have multiple colors: i.e. a Blue Black card is both blue AND black.  **\"Colorless\" is not a color**.  The color field for a card is not allowed to have \"Colorless\" as its entry.  Colorlessness is the absence of color.\n",
    "\n",
    "###### Consider\n",
    "\n",
    "* How should someone initialize an instance of your class?\n",
    "* What functions should your class have?\n",
    "* Make a little test json to feed to your constructor (`__init__`) using the example card?\n",
    "\n",
    "Your class `MagicCard` may have multiple methods for initialization, but at least one of them must accept the MTG JSON representation of a card as input."
   ]
  },
  {
   "cell_type": "code",
   "execution_count": 1,
   "metadata": {},
   "outputs": [
    {
     "name": "stdout",
     "output_type": "stream",
     "text": [
      "Sen Triplets\n",
      "['White', 'Blue', 'Black']\n",
      "Mythic Rare\n"
     ]
    }
   ],
   "source": [
    "import json \n",
    "\n",
    "class MagicCard():\n",
    "    \n",
    "    def set_name(self,name): \n",
    "        self.name = name\n",
    "    def set_colors(self,colors): \n",
    "        self.colors = colors\n",
    "    def set_rarity(self,rarity): \n",
    "        self.rarity = rarity\n",
    "        \n",
    "    def __init__(self, mcard):\n",
    "        if 'name' not in mcard:\n",
    "            self.set_name(\"\")\n",
    "        else:\n",
    "            self.set_name(mcard['name'])\n",
    "        \n",
    "        if 'colors' not in mcard:\n",
    "            self.set_colors([])\n",
    "        else:\n",
    "            self.set_colors(mcard['colors'])\n",
    "            \n",
    "        if 'rarity' not in mcard:\n",
    "            self.set_rarity(\"\")\n",
    "        else:\n",
    "            self.set_rarity(mcard['rarity'])\n",
    "            \n",
    "    def get_name(self):\n",
    "        return self.name\n",
    "    \n",
    "    def get_colors(self):\n",
    "        return self.colors\n",
    "    \n",
    "    def get_rarity(self):\n",
    "        return self.rarity\n",
    "    \n",
    "CardType = {\"name\":\"Sen Triplets\",\"rarity\":\"Mythic Rare\",\"colors\":[\"White\", \"Blue\", \"Black\"]}\n",
    "card = MagicCard(CardType)\n",
    "print(card.get_name())\n",
    "print(card.get_colors())\n",
    "print(card.get_rarity())"
   ]
  },
  {
   "cell_type": "markdown",
   "metadata": {},
   "source": [
    "# Problem 1(b). Class for a set of Magic cards.\n",
    "\n",
    "🎯 Download the data for the Dragons of Tarkir (abbreviated as DTK) set from the [Individual Sets](http://mtgjson.com/#individualSets) section of the MTG JSON page.  \n",
    "\n",
    "* 🎯 Create a `MagicCardSet` class to store relevant information about a set of Magic cards.\n",
    "* 🎯 Create an *instance* of the class which contains all of the information about the Dragons of Tarkir set. \n",
    "\n",
    "###### Notes\n",
    "\n",
    "* Your `MagicCardSet` should store the relevant MTG Cards as instances of `MagicCard`, as well as\n",
    "* any methods you end up adding to solve other parts of this problem."
   ]
  },
  {
   "cell_type": "code",
   "execution_count": 30,
   "metadata": {},
   "outputs": [
    {
     "data": {
      "text/plain": [
       "<__main__.MagicCardSet at 0x228d648d710>"
      ]
     },
     "execution_count": 30,
     "metadata": {},
     "output_type": "execute_result"
    }
   ],
   "source": [
    "import json\n",
    "import pandas as pd\n",
    "\n",
    "with open('C:/Users/rohit/Desktop/DTK.json', encoding=\"utf8\") as data_file:\n",
    "    DoTk = json.loads(data_file.read())\n",
    "    \n",
    "class MagicCardSet():\n",
    "    \n",
    "    def set_name(self,name): \n",
    "        self.name = name\n",
    "    def set_colors(self,colors): \n",
    "        self.colors = colors\n",
    "    def set_rarity(self,rarity): \n",
    "        self.rarity = rarity\n",
    "        \n",
    "    def __init__(self, mcard):\n",
    "        if 'name' not in mcard:\n",
    "            self.set_name(\"\")\n",
    "        else:\n",
    "            self.set_name(mcard['name'])\n",
    "        \n",
    "        if 'colors' not in mcard:\n",
    "            self.set_colors([])\n",
    "        else:\n",
    "            self.set_colors(mcard['colors'])\n",
    "            \n",
    "        if 'rarity' not in mcard:\n",
    "            self.set_rarity(\"\")\n",
    "        else:\n",
    "            self.set_rarity(mcard['rarity'])\n",
    "            \n",
    "    def cards_naming(self, cards):\n",
    "        if not self.cards:\n",
    "            self.cards = []\n",
    "            \n",
    "        for card in cards:\n",
    "            self.cards.append(MagicCard(card)) \n",
    "            \n",
    "    def get_rearest_card(self):\n",
    "        common_count = 0\n",
    "        uncommon_count = 0\n",
    "        rare_count = 0\n",
    "        mythical_count = 0\n",
    "        for card in self.cards:\n",
    "            card_rarity = card.get_rarity()\n",
    "            if card.get_rarity() == \"Common\":\n",
    "                common_count += 1\n",
    "            if card.get_rarity() == \"Uncommon\":\n",
    "                uncommon_count += 1\n",
    "            if card.get_rarity() == \"Rare\":\n",
    "                rare_count += 1\n",
    "            if card.get_rarity() == \"Mythic Rare\":\n",
    "                mythical_count += 1\n",
    "                \n",
    "        rarity_counts = [common_count, uncommon_count, rare_count, mythical_count]\n",
    "        rareCardtype = [\"Common\", \"Uncommon\", \"Rare\", \"Mythic Rare\"]\n",
    "\n",
    "        rare_df = pd.DataFrame(rareCardtype, columns=[\"Rarity\"], index=rarity_counts)\n",
    "        \n",
    "            \n",
    "    def get_name(self):\n",
    "        return self.name\n",
    "    \n",
    "    def get_colors(self):\n",
    "        return self.colors\n",
    "    \n",
    "    def get_rarity(self):\n",
    "        return self.rarity\n",
    "\n",
    "\n",
    "    def __init__(self, DoTkcard):\n",
    "        self.card = [MagicCard(card) for card in DoTk['cards']]\n",
    "        \n",
    "       \n",
    "magic = MagicCardSet(DoTk)\n",
    "magic\n",
    "\n"
   ]
  },
  {
   "cell_type": "markdown",
   "metadata": {},
   "source": [
    "# Problem 1(c).  Dragons of Tarkir.\n",
    "\n",
    "The MTG rarity levels are \"Common\", \"Uncommon\", \"Rare\", and \"Mythic Rare\". \n",
    "\n",
    "🎯 Answer these questions using Python:\n",
    "1. What are the rarest cards in the Dragons of Tarkir set (meaning list all card names that are from the least common rarity level)?  \n",
    "2. What colors are they associated with? \n",
    "\n",
    "You might be able to guess by the rarity level names which rarity level is least common, but we want you to use code to verify which is least common, and then print the card names and colors of those cards.\n",
    "\n",
    "* For purposes of this question, do not consider \"Basic Land\" as a rarity level.\n",
    "\n",
    "🎯 Write an MTG Set class method to answer this question, then 🎯 create a markdown cell which explains your method and conclusions.  It is insufficient to merely produce counts of each rarity -- your code must tell the reader what the rarest rarity is."
   ]
  },
  {
   "cell_type": "code",
   "execution_count": 31,
   "metadata": {
    "scrolled": true
   },
   "outputs": [
    {
     "ename": "AttributeError",
     "evalue": "'MagicCardSet' object has no attribute 'cards'",
     "output_type": "error",
     "traceback": [
      "\u001b[1;31m---------------------------------------------------------------------------\u001b[0m",
      "\u001b[1;31mAttributeError\u001b[0m                            Traceback (most recent call last)",
      "\u001b[1;32m<ipython-input-31-307a27921de7>\u001b[0m in \u001b[0;36m<module>\u001b[1;34m()\u001b[0m\n\u001b[0;32m      6\u001b[0m \u001b[1;33m\u001b[0m\u001b[0m\n\u001b[0;32m      7\u001b[0m \u001b[0mDoTk_cardset\u001b[0m \u001b[1;33m=\u001b[0m \u001b[0mMagicCardSet\u001b[0m\u001b[1;33m(\u001b[0m\u001b[0mDoTk\u001b[0m\u001b[1;33m)\u001b[0m\u001b[1;33m\u001b[0m\u001b[0m\n\u001b[1;32m----> 8\u001b[1;33m \u001b[0mrarest_card\u001b[0m \u001b[1;33m=\u001b[0m \u001b[0mDoTk_cardset\u001b[0m\u001b[1;33m.\u001b[0m\u001b[0mget_rearest_card\u001b[0m\u001b[1;33m(\u001b[0m\u001b[1;33m)\u001b[0m\u001b[1;33m\u001b[0m\u001b[0m\n\u001b[0m",
      "\u001b[1;32m<ipython-input-30-8380656e3f1c>\u001b[0m in \u001b[0;36mget_rearest_card\u001b[1;34m(self)\u001b[0m\n\u001b[0;32m     43\u001b[0m         \u001b[0mrare_count\u001b[0m \u001b[1;33m=\u001b[0m \u001b[1;36m0\u001b[0m\u001b[1;33m\u001b[0m\u001b[0m\n\u001b[0;32m     44\u001b[0m         \u001b[0mmythical_count\u001b[0m \u001b[1;33m=\u001b[0m \u001b[1;36m0\u001b[0m\u001b[1;33m\u001b[0m\u001b[0m\n\u001b[1;32m---> 45\u001b[1;33m         \u001b[1;32mfor\u001b[0m \u001b[0mcard\u001b[0m \u001b[1;32min\u001b[0m \u001b[0mself\u001b[0m\u001b[1;33m.\u001b[0m\u001b[0mcards\u001b[0m\u001b[1;33m:\u001b[0m\u001b[1;33m\u001b[0m\u001b[0m\n\u001b[0m\u001b[0;32m     46\u001b[0m             \u001b[0mcard_rarity\u001b[0m \u001b[1;33m=\u001b[0m \u001b[0mcard\u001b[0m\u001b[1;33m.\u001b[0m\u001b[0mget_rarity\u001b[0m\u001b[1;33m(\u001b[0m\u001b[1;33m)\u001b[0m\u001b[1;33m\u001b[0m\u001b[0m\n\u001b[0;32m     47\u001b[0m             \u001b[1;32mif\u001b[0m \u001b[0mcard\u001b[0m\u001b[1;33m.\u001b[0m\u001b[0mget_rarity\u001b[0m\u001b[1;33m(\u001b[0m\u001b[1;33m)\u001b[0m \u001b[1;33m==\u001b[0m \u001b[1;34m\"Common\"\u001b[0m\u001b[1;33m:\u001b[0m\u001b[1;33m\u001b[0m\u001b[0m\n",
      "\u001b[1;31mAttributeError\u001b[0m: 'MagicCardSet' object has no attribute 'cards'"
     ]
    }
   ],
   "source": [
    "with open('C:/Users/rohit/Desktop/DTK.json', encoding=\"utf8\") as data_file:\n",
    "    DoTk = json.loads(data_file.read())\n",
    "    \n",
    "import json\n",
    "import pandas as pd\n",
    "\n",
    "DoTk_cardset = MagicCardSet(DoTk)\n",
    "rarest_card = DoTk_cardset.get_rearest_card()"
   ]
  },
  {
   "cell_type": "markdown",
   "metadata": {},
   "source": [
    "# Problem 1(d). Most frequent colors among Uncommon cards in DTK\n",
    "\n",
    "🎯 Write a class method or Python function to determine which color(s) is most represented among Uncommon cards.  \n",
    "\n",
    "* Remember, \"colorless\" is not a color, and a card that is Blue Black counts as a Blue card and a Black card.  \n",
    "* It is possible that multiple colors can be tied for most frequent at a given rarity level, and your code must return *all* the most frequent colors.\n",
    "* The answer must be programmatically determined.  It is inferior to answer this problem merely by computing the number of cards of each color.  The computer must determine which ones are the largest -- do not leave it to a reader (you or me).\n",
    "\n",
    "🎯 When deciding between a class method or a Python function, what was your reasoning?"
   ]
  },
  {
   "cell_type": "code",
   "execution_count": 25,
   "metadata": {},
   "outputs": [
    {
     "ename": "AttributeError",
     "evalue": "'MagicCardSet' object has no attribute 'rarity'",
     "output_type": "error",
     "traceback": [
      "\u001b[1;31m---------------------------------------------------------------------------\u001b[0m",
      "\u001b[1;31mAttributeError\u001b[0m                            Traceback (most recent call last)",
      "\u001b[1;32m<ipython-input-25-120355cb1fdf>\u001b[0m in \u001b[0;36m<module>\u001b[1;34m()\u001b[0m\n\u001b[1;32m----> 1\u001b[1;33m \u001b[0mUncommonColor\u001b[0m \u001b[1;33m=\u001b[0m \u001b[0mmagic\u001b[0m\u001b[1;33m.\u001b[0m\u001b[0mget_rarity\u001b[0m\u001b[1;33m(\u001b[0m\u001b[1;33m)\u001b[0m\u001b[1;33m\u001b[0m\u001b[0m\n\u001b[0m\u001b[0;32m      2\u001b[0m \u001b[0mUncommonColor\u001b[0m\u001b[1;33m\u001b[0m\u001b[0m\n",
      "\u001b[1;32m<ipython-input-23-652b6c7b5c1b>\u001b[0m in \u001b[0;36mget_rarity\u001b[1;34m(self)\u001b[0m\n\u001b[0;32m     59\u001b[0m \u001b[1;33m\u001b[0m\u001b[0m\n\u001b[0;32m     60\u001b[0m     \u001b[1;32mdef\u001b[0m \u001b[0mget_rarity\u001b[0m\u001b[1;33m(\u001b[0m\u001b[0mself\u001b[0m\u001b[1;33m)\u001b[0m\u001b[1;33m:\u001b[0m\u001b[1;33m\u001b[0m\u001b[0m\n\u001b[1;32m---> 61\u001b[1;33m         \u001b[1;32mreturn\u001b[0m \u001b[0mself\u001b[0m\u001b[1;33m.\u001b[0m\u001b[0mrarity\u001b[0m\u001b[1;33m\u001b[0m\u001b[0m\n\u001b[0m\u001b[0;32m     62\u001b[0m \u001b[1;33m\u001b[0m\u001b[0m\n\u001b[0;32m     63\u001b[0m \u001b[1;33m\u001b[0m\u001b[0m\n",
      "\u001b[1;31mAttributeError\u001b[0m: 'MagicCardSet' object has no attribute 'rarity'"
     ]
    }
   ],
   "source": []
  },
  {
   "cell_type": "code",
   "execution_count": null,
   "metadata": {
    "collapsed": true
   },
   "outputs": [],
   "source": []
  }
 ],
 "metadata": {
  "anaconda-cloud": {},
  "kernelspec": {
   "display_name": "Python 3",
   "language": "python",
   "name": "python3"
  },
  "language_info": {
   "codemirror_mode": {
    "name": "ipython",
    "version": 3
   },
   "file_extension": ".py",
   "mimetype": "text/x-python",
   "name": "python",
   "nbconvert_exporter": "python",
   "pygments_lexer": "ipython3",
   "version": "3.6.3"
  }
 },
 "nbformat": 4,
 "nbformat_minor": 1
}
