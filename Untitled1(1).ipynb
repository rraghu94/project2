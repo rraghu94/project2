{
 "cells": [
  {
   "cell_type": "code",
   "execution_count": 47,
   "metadata": {},
   "outputs": [
    {
     "name": "stdout",
     "output_type": "stream",
     "text": [
      "hello world\n"
     ]
    }
   ],
   "source": [
    "print(\"hello world\")"
   ]
  },
  {
   "cell_type": "code",
   "execution_count": 48,
   "metadata": {},
   "outputs": [
    {
     "name": "stdout",
     "output_type": "stream",
     "text": [
      "4\n"
     ]
    }
   ],
   "source": [
    "#create a variable named a, and store the value 3+1 in it\n",
    "a = 3+1\n",
    "print(a)"
   ]
  },
  {
   "cell_type": "code",
   "execution_count": 49,
   "metadata": {},
   "outputs": [
    {
     "name": "stdout",
     "output_type": "stream",
     "text": [
      "three plus one is 4\n"
     ]
    }
   ],
   "source": [
    "#combine multiple objects on the same line\n",
    "print(\"three plus one is {}\".format(a))"
   ]
  },
  {
   "cell_type": "code",
   "execution_count": 50,
   "metadata": {},
   "outputs": [
    {
     "name": "stdout",
     "output_type": "stream",
     "text": [
      "Rohit Raghu\n"
     ]
    }
   ],
   "source": [
    "#Output first and last name\n",
    "first_name = (\"Rohit\")\n",
    "last_name = (\"Raghu\")\n",
    "print(first_name,last_name)\n"
   ]
  },
  {
   "cell_type": "code",
   "execution_count": 51,
   "metadata": {
    "scrolled": true
   },
   "outputs": [
    {
     "name": "stdout",
     "output_type": "stream",
     "text": [
      "Rohit\tRaghu\n",
      "RohitRaghu\n"
     ]
    }
   ],
   "source": [
    "print(\"Rohit\\tRaghu\\n{}{}\".format(first_name,last_name))"
   ]
  },
  {
   "cell_type": "markdown",
   "metadata": {},
   "source": [
    "To modify cell we must adjust the output of the cell to show a space by adding it to the string in quotations \" \""
   ]
  },
  {
   "cell_type": "code",
   "execution_count": 52,
   "metadata": {},
   "outputs": [
    {
     "name": "stdout",
     "output_type": "stream",
     "text": [
      "Rohit Raghu\n"
     ]
    }
   ],
   "source": [
    "print(first_name+\" \"+last_name)"
   ]
  },
  {
   "cell_type": "code",
   "execution_count": 53,
   "metadata": {},
   "outputs": [
    {
     "data": {
      "text/plain": [
       "'ROHIT'"
      ]
     },
     "execution_count": 53,
     "metadata": {},
     "output_type": "execute_result"
    }
   ],
   "source": [
    "#Convert name to uppercase\n",
    "first_name.upper()\n"
   ]
  },
  {
   "cell_type": "code",
   "execution_count": 54,
   "metadata": {},
   "outputs": [],
   "source": [
    "def foo():\n",
    "    return 42"
   ]
  },
  {
   "cell_type": "code",
   "execution_count": 55,
   "metadata": {},
   "outputs": [
    {
     "data": {
      "text/plain": [
       "42"
      ]
     },
     "execution_count": 55,
     "metadata": {},
     "output_type": "execute_result"
    }
   ],
   "source": [
    "foo()"
   ]
  },
  {
   "cell_type": "code",
   "execution_count": 56,
   "metadata": {
    "collapsed": true
   },
   "outputs": [],
   "source": [
    "v = foo()"
   ]
  },
  {
   "cell_type": "code",
   "execution_count": 57,
   "metadata": {},
   "outputs": [],
   "source": [
    "import random\n",
    "\n",
    "def make_message(first, last):\n",
    "    if first in [\"first_name\",\"\"] or last in [\"last_name\",\"\"]:\n",
    "        raise ValueError(\"Unchanged or empty first or last name\")\n",
    "    return \"Hi, {} {}, it's nice to meet you!  I'm Robot #{}\".format(first,last,random.randint(0,1000000))"
   ]
  },
  {
   "cell_type": "code",
   "execution_count": 58,
   "metadata": {
    "collapsed": true
   },
   "outputs": [],
   "source": [
    "var = make_message(first_name, last_name) "
   ]
  },
  {
   "cell_type": "code",
   "execution_count": 59,
   "metadata": {
    "scrolled": false
   },
   "outputs": [
    {
     "name": "stdout",
     "output_type": "stream",
     "text": [
      "Hi, Rohit Raghu, it's nice to meet you!  I'm Robot #845956\n"
     ]
    }
   ],
   "source": [
    "print(var)"
   ]
  },
  {
   "cell_type": "code",
   "execution_count": 60,
   "metadata": {
    "collapsed": true
   },
   "outputs": [],
   "source": [
    "#Awesome message"
   ]
  },
  {
   "cell_type": "markdown",
   "metadata": {},
   "source": [
    "#What is your name?\n",
    "\n",
    "  Rohit Raghu\n",
    "  \n",
    "Why are you interested in Data Science?\n",
    "\n",
    "  I love how data can show insights to businesses and make future predictions\n",
    "  \n",
    "Tell us a little bit about your programming experience. What programming courses have you taken? Do you use programming on the job, and if so, how?\n",
    "\n",
    "  I have little programming knowledge.Ive used C++ and Java before and wrote macros in excel. I     have not used programming on the job as I have just started my career after getting a BS\n",
    "  \n",
    "Tell us a little bit about your statistics experience. What statistics courses have you taken? Do you use statistics on the job, and if so, how?\n",
    "\n",
    "  Ive taken stats courses in college. Ive taken statistics for business for my finance degree. Ive   not beeen able to use my stats skills on the job yet.\n",
    "  \n",
    "Do you have other experience with R or Python?\n",
    "\n",
    "  I have not used either yet.\n",
    "  \n",
    "What do you hope to learn in this class?\n",
    "\n",
    "  I hope to learn some python programming so i can use it on the job\n",
    "  \n",
    "Is there anything else you would like to share with us?\n",
    "   N/A"
   ]
  }
 ],
 "metadata": {
  "kernelspec": {
   "display_name": "Python 3",
   "language": "python",
   "name": "python3"
  },
  "language_info": {
   "codemirror_mode": {
    "name": "ipython",
    "version": 3
   },
   "file_extension": ".py",
   "mimetype": "text/x-python",
   "name": "python",
   "nbconvert_exporter": "python",
   "pygments_lexer": "ipython3",
   "version": "3.6.3"
  }
 },
 "nbformat": 4,
 "nbformat_minor": 2
}
